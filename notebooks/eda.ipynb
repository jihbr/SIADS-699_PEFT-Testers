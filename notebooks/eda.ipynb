{
 "cells": [
  {
   "cell_type": "markdown",
   "metadata": {},
   "source": [
    "In order to decide the right strategy for splitting the dataset, it is necessary to find the label distribution."
   ]
  },
  {
   "cell_type": "code",
   "execution_count": 17,
   "metadata": {},
   "outputs": [
    {
     "name": "stdout",
     "output_type": "stream",
     "text": [
      "Successfully loaded train split with 10178 rows and 8 columns\n",
      "Columns: ['id', 'sent1', 'sent2', 'ending0', 'ending1', 'ending2', 'ending3', 'label']\n",
      "Index(['id', 'sent1', 'sent2', 'ending0', 'ending1', 'ending2', 'ending3',\n",
      "       'label'],\n",
      "      dtype='object')\n"
     ]
    }
   ],
   "source": [
    "import sys\n",
    "import os\n",
    "import pandas as pd\n",
    "import matplotlib.pyplot as plt\n",
    "\n",
    "# Add the src directory to Python path\n",
    "module_path = os.path.abspath(os.path.join('..'))\n",
    "if module_path not in sys.path:\n",
    "    sys.path.append(module_path)\n",
    "\n",
    "# Now you can import\n",
    "from src.helper_functions import load_medqa_dataset, get_dataset_info \n",
    "# Example usage\n",
    "df = load_medqa_dataset()\n",
    "print(df.columns)\n",
    "\n"
   ]
  },
  {
   "cell_type": "code",
   "execution_count": 18,
   "metadata": {},
   "outputs": [
    {
     "name": "stdout",
     "output_type": "stream",
     "text": [
      "{'total_rows': 10178, 'total_columns': 8, 'columns': ['id', 'sent1', 'sent2', 'ending0', 'ending1', 'ending2', 'ending3', 'label'], 'missing_values': {'id': 0, 'sent1': 0, 'sent2': 0, 'ending0': 0, 'ending1': 0, 'ending2': 0, 'ending3': 0, 'label': 0}, 'duplicate_rows': np.int64(0), 'label_distribution': {0: 2584, 1: 2654, 2: 2557, 3: 2383}, 'unique_labels': [np.int64(0), np.int64(1), np.int64(2), np.int64(3)], 'question_length_stats': {'min': np.int64(66), 'max': np.int64(3577), 'mean': np.float64(724.1203576341128), 'median': np.float64(694.0), 'std': np.float64(275.95342251625993)}}\n"
     ]
    }
   ],
   "source": [
    "info = get_dataset_info(df)\n",
    "print(info)"
   ]
  },
  {
   "cell_type": "markdown",
   "metadata": {},
   "source": [
    "It looks like the label distribution is relatively balanced, so a stratified split may not be needed."
   ]
  },
  {
   "cell_type": "code",
   "execution_count": 35,
   "metadata": {},
   "outputs": [
    {
     "data": {
      "image/png": "[encoded data removed]",
      "text/plain": [
       "<Figure size 800x500 with 1 Axes>"
      ]
     },
     "metadata": {},
     "output_type": "display_data"
    }
   ],
   "source": [
    "label_series = pd.Series(info['label_distribution'])\n",
    "label_series.plot.bar(figsize=(8, 5))\n",
    "plt.xlabel('Labels')\n",
    "plt.ylabel('Frequency')\n",
    "plt.title('Label Distribution')\n",
    "plt.xticks(rotation=0)\n",
    "\n",
    "plt.show()"
   ]
  }
 ],
 "metadata": {
  "kernelspec": {
   "display_name": "Python 3",
   "language": "python",
   "name": "python3"
  },
  "language_info": {
   "codemirror_mode": {
    "name": "ipython",
    "version": 3
   },
   "file_extension": ".py",
   "mimetype": "text/x-python",
   "name": "python",
   "nbconvert_exporter": "python",
   "pygments_lexer": "ipython3",
   "version": "3.13.3"
  }
 },
 "nbformat": 4,
 "nbformat_minor": 2
}
