{
 "cells": [
  {
   "cell_type": "markdown",
   "metadata": {},
   "source": [
    "# Testing PEFT configurations on a subset of the training data"
   ]
  },
  {
   "cell_type": "code",
   "execution_count": 1,
   "metadata": {},
   "outputs": [
    {
     "name": "stderr",
     "output_type": "stream",
     "text": [
      "/Users/joshhaber/SIADS-699_PEFT-Testers/.venv/lib/python3.11/site-packages/tqdm/auto.py:21: TqdmWarning: IProgress not found. Please update jupyter and ipywidgets. See https://ipywidgets.readthedocs.io/en/stable/user_install.html\n",
      "  from .autonotebook import tqdm as notebook_tqdm\n"
     ]
    },
    {
     "name": "stdout",
     "output_type": "stream",
     "text": [
      "Dataset({\n",
      "    features: ['question', 'answer', 'options', 'meta_info', 'answer_idx', 'metamap_phrases'],\n",
      "    num_rows: 100\n",
      "})\n"
     ]
    }
   ],
   "source": [
    "from datasets import load_dataset\n",
    "import sys\n",
    "import os\n",
    "sys.path.append(os.path.abspath(os.path.join('..'))) \n",
    "from src.helper_functions import format_mcf_finetuning\n",
    "\n",
    "\n",
    "# Load model\n",
    "usml_raw = load_dataset(\"GBaker/MedQA-USMLE-4-options\")\n",
    "usml_train = usml_raw['train']\n",
    "sample_train = usml_train.shuffle(seed=42).select(range(100))\n",
    "print(sample_train)"
   ]
  },
  {
   "cell_type": "markdown",
   "metadata": {},
   "source": [
    "Preprocess the subset"
   ]
  },
  {
   "cell_type": "code",
   "execution_count": 2,
   "metadata": {},
   "outputs": [
    {
     "name": "stdout",
     "output_type": "stream",
     "text": [
      "Question: A 35-year-old woman comes to your office with a variety of complaints. As part of her evaluation, she undergoes laboratory testing which reveals the presence of anti-centromere antibodies. All of the following symptoms and signs would be expected to be present EXCEPT:\n",
      "A. Pallor, cyanosis, and erythema of the hands\n",
      "B. Blanching vascular abnormalities\n",
      "C. Hypercoagulable state\n",
      "D. Heartburn and regurgitation\n",
      "Answer:\n",
      "Hypercoagulable state\n"
     ]
    }
   ],
   "source": [
    "formatted_train_subset = sample_train.map(\n",
    "    format_mcf_finetuning,\n",
    "    remove_columns=sample_train.column_names\n",
    ")\n",
    "\n",
    "print(formatted_train_subset[0]['prompt'])\n",
    "print(formatted_train_subset[0]['completion'])"
   ]
  },
  {
   "cell_type": "code",
   "execution_count": null,
   "metadata": {},
   "outputs": [
    {
     "name": "stderr",
     "output_type": "stream",
     "text": [
      "/Users/joshhaber/SIADS-699_PEFT-Testers/.venv/lib/python3.11/site-packages/huggingface_hub/file_download.py:943: FutureWarning: `resume_download` is deprecated and will be removed in version 1.0.0. Downloads always resume when possible. If you want to force a new download, use `force_download=True`.\n",
      "  warnings.warn(\n",
      "Map: 100%|██████████| 100/100 [00:01<00:00, 65.95 examples/s]\n",
      "Downloading shards:   0%|          | 0/2 [00:00<?, ?it/s]"
     ]
    }
   ],
   "source": [
    "import torch\n",
    "from transformers import (\n",
    "    AutoTokenizer,\n",
    "    AutoModelForCausalLM,\n",
    "    TrainingArguments,\n",
    "    DataCollatorForSeq2Seq,\n",
    "    BitsAndBytesConfig\n",
    "    Trainer\n",
    ")\n",
    "from peft import LoraConfig, get_peft_model, prepare_model_for_kbit_training\n",
    "\n",
    "# Load tokenizer - special setup for LLaMA\n",
    "model_name = \"meta-llama/Llama-2-7b-hf\"\n",
    "tokenizer = AutoTokenizer.from_pretrained(model_name, token=True)  # Added token=True\n",
    "tokenizer.pad_token = tokenizer.eos_token\n",
    "tokenizer.padding_side = \"left\"  # For autoregressive generation\n",
    "\n",
    "# Tokenization function (unchanged)\n",
    "def tokenize_function(examples):\n",
    "    texts = [p + c for p, c in zip(examples['prompt'], examples['completion'])]\n",
    "    tokenized = tokenizer(\n",
    "        texts,\n",
    "        truncation=True,\n",
    "        max_length=512,\n",
    "        padding=\"max_length\"\n",
    "    )\n",
    "    prompt_lens = [len(tokenizer(p)['input_ids']) for p in examples['prompt']]\n",
    "    tokenized[\"labels\"] = [\n",
    "        [-100]*plen + t[plen:] for plen, t in zip(prompt_lens, tokenized[\"input_ids\"])\n",
    "    ]\n",
    "    return tokenized\n",
    "\n",
    "tokenized_dataset = formatted_train_subset.map(tokenize_function, batched=True)\n",
    "\n",
    "# Modified model loading for GCP GPUs\n",
    "quant_config = BitsAndBytesConfig(\n",
    "    load_in_4bit=True,  # Changed to 4bit for better GPU utilization\n",
    "    bnb_4bit_compute_dtype=torch.float16,\n",
    "    bnb_4bit_quant_type=\"nf4\",\n",
    "    bnb_4bit_use_double_quant=True\n",
    ")\n",
    "\n",
    "model = AutoModelForCausalLM.from_pretrained(\n",
    "    model_name,\n",
    "    quantization_config=quant_config,  # Replaced load_in_8bit\n",
    "    device_map=\"auto\",\n",
    "    torch_dtype=torch.float16,\n",
    "    token=True  # Added token for authentication\n",
    ")\n",
    "\n",
    "# Prepare for LoRA (updated function name)\n",
    "model = prepare_model_for_kbit_training(model)\n",
    "\n",
    "# LoRA config (unchanged structure)\n",
    "lora_config = LoraConfig(\n",
    "    r=16,\n",
    "    lora_alpha=32,\n",
    "    target_modules=[\"q_proj\", \"v_proj\", \"k_proj\"],\n",
    "    lora_dropout=0.05,\n",
    "    bias=\"none\",\n",
    "    task_type=\"CAUSAL_LM\"\n",
    ")\n",
    "model = get_peft_model(model, lora_config)\n",
    "\n",
    "# Updated TrainingArguments for GCP\n",
    "training_args = TrainingArguments(\n",
    "    output_dir=\"./llama7b-usmle-lora-subset\",\n",
    "    per_device_train_batch_size=4,  # Increased for GPU\n",
    "    gradient_accumulation_steps=4,\n",
    "    warmup_ratio=0.1,\n",
    "    num_train_epochs=3,\n",
    "    learning_rate=3e-4,\n",
    "    fp16=True,\n",
    "    logging_steps=5,\n",
    "    evaluation_strategy=\"no\",\n",
    "    save_strategy=\"epoch\",\n",
    "    optim=\"paged_adamw_32bit\",  # Changed to 32bit\n",
    "    gradient_checkpointing=True,  # Added for memory efficiency\n",
    "    report_to=\"none\"  # Disables wandb if not needed\n",
    ")\n",
    "\n",
    "# Data collator (unchanged)\n",
    "data_collator = DataCollatorForSeq2Seq(\n",
    "    tokenizer,\n",
    "    model=model,\n",
    "    label_pad_token_id=-100,\n",
    "    pad_to_multiple_of=8\n",
    ")\n",
    "\n",
    "# Trainer (unchanged structure)\n",
    "trainer = Trainer(\n",
    "    model=model,\n",
    "    args=training_args,\n",
    "    train_dataset=tokenized_dataset,\n",
    "    data_collator=data_collator\n",
    ")\n",
    "\n",
    "# GPU verification\n",
    "print(f\"Using device: {torch.cuda.get_device_name(0)}\")\n",
    "print(f\"VRAM: {torch.cuda.get_device_properties(0).total_memory/1e9:.2f}GB\")\n",
    "\n",
    "# Start training\n",
    "trainer.train()\n",
    "\n",
    "# Save model (unchanged)\n",
    "model.save_pretrained(\"llama7b-usmle-lora-subset\")"
   ]
  },
  {
   "cell_type": "markdown",
   "metadata": {},
   "source": [
    "Now save the fine tuned model to ephemeral storage."
   ]
  },
  {
   "cell_type": "code",
   "execution_count": null,
   "metadata": {},
   "outputs": [],
   "source": [
    "from google.cloud import storage\n",
    "\n",
    "# Create the bucket (run once)\n",
    "client = storage.Client()\n",
    "bucket_name = \"subset_models\"  # Your bucket name\n",
    "\n",
    "try:\n",
    "    bucket = client.create_bucket(bucket_name, location=\"us-central1\")\n",
    "    print(f\"Bucket created: gs://{bucket_name}\")\n",
    "except Exception as e:\n",
    "    print(f\"Bucket exists or error: {e}\")"
   ]
  },
  {
   "cell_type": "code",
   "execution_count": null,
   "metadata": {},
   "outputs": [],
   "source": [
    "# Save locally first (temporarily)\n",
    "local_dir = \"llama7b-usmle-lora-subset\"\n",
    "\n",
    "# Upload to GCS\n",
    "client = storage.Client()\n",
    "bucket = client.bucket(\"subset_models\")\n",
    "gcs_path = \"llama7b-usmle-lora-subset\"  # Folder name in bucket\n",
    "\n",
    "# Upload all files\n",
    "for file_name in os.listdir(local_dir):\n",
    "    local_path = os.path.join(local_dir, file_name)\n",
    "    blob = bucket.blob(f\"{gcs_path}/{file_name}\")\n",
    "    blob.upload_from_filename(local_path)\n",
    "    print(f\"Uploaded: gs://subset_models/{gcs_path}/{file_name}\")\n",
    "\n",
    "# Clean up local files (optional)\n",
    "!rm -rf {local_dir}"
   ]
  }
 ],
 "metadata": {
  "kernelspec": {
   "display_name": ".venv",
   "language": "python",
   "name": "python3"
  },
  "language_info": {
   "codemirror_mode": {
    "name": "ipython",
    "version": 3
   },
   "file_extension": ".py",
   "mimetype": "text/x-python",
   "name": "python",
   "nbconvert_exporter": "python",
   "pygments_lexer": "ipython3",
   "version": "3.11.13"
  }
 },
 "nbformat": 4,
 "nbformat_minor": 2
}
