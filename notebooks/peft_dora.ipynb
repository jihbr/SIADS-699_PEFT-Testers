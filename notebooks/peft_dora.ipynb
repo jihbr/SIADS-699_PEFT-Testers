{
 "cells": [
  {
   "cell_type": "markdown",
   "metadata": {},
   "source": [
    "# DoRA PEFT Fine Tuning"
   ]
  },
  {
   "cell_type": "markdown",
   "metadata": {},
   "source": [
    "## Load Data"
   ]
  },
  {
   "cell_type": "code",
   "execution_count": 1,
   "metadata": {},
   "outputs": [
    {
     "name": "stderr",
     "output_type": "stream",
     "text": [
      "/Users/joshhaber/SIADS-699_PEFT-Testers/.venv/lib/python3.11/site-packages/tqdm/auto.py:21: TqdmWarning: IProgress not found. Please update jupyter and ipywidgets. See https://ipywidgets.readthedocs.io/en/stable/user_install.html\n",
      "  from .autonotebook import tqdm as notebook_tqdm\n"
     ]
    },
    {
     "name": "stdout",
     "output_type": "stream",
     "text": [
      "Dataset({\n",
      "    features: ['question', 'answer', 'options', 'meta_info', 'answer_idx', 'metamap_phrases'],\n",
      "    num_rows: 10178\n",
      "})\n"
     ]
    }
   ],
   "source": [
    "from datasets import load_dataset\n",
    "import sys\n",
    "import os\n",
    "sys.path.append(os.path.abspath(os.path.join('..'))) \n",
    "from src.helper_functions import format_mcf_finetuning\n",
    "\n",
    "\n",
    "# Load model\n",
    "usml_raw = load_dataset(\"GBaker/MedQA-USMLE-4-options\")\n",
    "usml_train = usml_raw['train']\n",
    "print(usml_train)"
   ]
  },
  {
   "cell_type": "markdown",
   "metadata": {},
   "source": [
    "## Pre-process the Dataset"
   ]
  },
  {
   "cell_type": "code",
   "execution_count": 2,
   "metadata": {},
   "outputs": [
    {
     "name": "stdout",
     "output_type": "stream",
     "text": [
      "Question: A 23-year-old pregnant woman at 22 weeks gestation presents with burning upon urination. She states it started 1 day ago and has been worsening despite drinking more water and taking cranberry extract. She otherwise feels well and is followed by a doctor for her pregnancy. Her temperature is 97.7°F (36.5°C), blood pressure is 122/77 mmHg, pulse is 80/min, respirations are 19/min, and oxygen saturation is 98% on room air. Physical exam is notable for an absence of costovertebral angle tenderness and a gravid uterus. Which of the following is the best treatment for this patient?\n",
      "A. Ampicillin\n",
      "B. Ceftriaxone\n",
      "C. Doxycycline\n",
      "D. Nitrofurantoin\n",
      "Answer:\n",
      "Nitrofurantoin\n"
     ]
    }
   ],
   "source": [
    "formatted_train = usml_train.map(\n",
    "    format_mcf_finetuning,\n",
    "    remove_columns=usml_train.column_names\n",
    ")\n",
    "\n",
    "print(formatted_train[0]['prompt'])\n",
    "print(formatted_train[0]['completion'])"
   ]
  },
  {
   "cell_type": "markdown",
   "metadata": {},
   "source": [
    "## Verify GPU and Tokenize Dataset"
   ]
  },
  {
   "cell_type": "code",
   "execution_count": null,
   "metadata": {},
   "outputs": [],
   "source": [
    "import torch\n",
    "from transformers import (\n",
    "    AutoTokenizer,\n",
    "    AutoModelForCausalLM,\n",
    "    TrainingArguments,\n",
    "    DataCollatorForSeq2Seq,\n",
    "    Trainer\n",
    ")\n",
    "from peft import LoraConfig, get_peft_model\n",
    "\n",
    "# 1. GPU Verification\n",
    "assert torch.cuda.is_available(), \"GPU not detected!\"\n",
    "print(f\"CUDA version: {torch.version.cuda}\")\n",
    "print(f\"VRAM: {torch.cuda.get_device_properties(0).total_memory/1e9:.2f}GB\")\n",
    "torch.cuda.empty_cache()\n",
    "\n",
    "# 2. Tokenizer Setup\n",
    "model_name = \"meta-llama/Llama-2-7b-hf\"\n",
    "tokenizer = AutoTokenizer.from_pretrained(model_name, token=True)\n",
    "tokenizer.pad_token = tokenizer.eos_token\n",
    "tokenizer.padding_side = \"left\"\n",
    "\n",
    "# 3. Tokenization Function\n",
    "def tokenize_function(examples):\n",
    "    texts = [p + c for p, c in zip(examples['prompt'], examples['completion'])]\n",
    "    \n",
    "    tokenized = tokenizer(\n",
    "        texts,\n",
    "        truncation=True,\n",
    "        max_length=512,\n",
    "        padding=\"max_length\",\n",
    "        return_tensors=\"pt\"\n",
    "    )\n",
    "    \n",
    "    # Create labels (mask prompt tokens)\n",
    "    prompt_lens = [len(tokenizer(p)['input_ids']) for p in examples['prompt']]\n",
    "    labels = tokenized[\"input_ids\"].clone()\n",
    "    for i, plen in enumerate(prompt_lens):\n",
    "        labels[i, :plen] = -100\n",
    "    \n",
    "    tokenized[\"labels\"] = labels\n",
    "    return tokenized\n",
    "\n",
    "# 4. Apply tokenization\n",
    "tokenized_dataset = formatted_train.map(\n",
    "    tokenize_function,\n",
    "    batched=True,\n",
    "    remove_columns=['prompt', 'completion'],\n",
    "    batch_size=8  # Smaller batches for tokenization\n",
    ")"
   ]
  },
  {
   "cell_type": "markdown",
   "metadata": {},
   "source": [
    "## Load Model, Configure DoRA, Collate Data, and Train"
   ]
  },
  {
   "cell_type": "code",
   "execution_count": null,
   "metadata": {},
   "outputs": [],
   "source": [
    "# First, ensure you have the latest versions of the required packages\n",
    "# pip install -U peft transformers\n",
    "\n",
    "from peft import LoraConfig, get_peft_model\n",
    "from transformers import AutoModelForCausalLM, TrainingArguments, Trainer, DataCollatorForSeq2Seq\n",
    "import torch\n",
    "\n",
    "# 5. Model Loading (FP16)\n",
    "model = AutoModelForCausalLM.from_pretrained(\n",
    "    model_name,\n",
    "    torch_dtype=torch.float16,\n",
    "    device_map=\"auto\",\n",
    "    token=True\n",
    ")\n",
    "\n",
    "# 6. DoRA Configuration (Modified LoRA config with use_dora=True)\n",
    "lora_config = LoraConfig(\n",
    "    r=8,  # Next iteration experiment with r=16\n",
    "    lora_alpha=16, #alpha typically 2x rank\n",
    "    target_modules=[\"q_proj\", \"k_proj\", \"v_proj\", \"o_proj\"],  # Full attention layer\n",
    "    lora_dropout=0.05,\n",
    "    bias=\"none\",\n",
    "    task_type=\"CAUSAL_LM\",\n",
    "    use_dora=True  # This is the key change to enable DoRA\n",
    ")\n",
    "\n",
    "model = get_peft_model(model, lora_config)\n",
    "\n",
    "# 7. Verify parameters (DoRA will have slightly more parameters than LoRA)\n",
    "model.print_trainable_parameters()  # Should show slightly more than 0.1% of parameters\n",
    "\n",
    "# 8. Training Arguments (Memory-optimized) - No changes needed\n",
    "training_args = TrainingArguments(\n",
    "    output_dir=\"./llama7b-usmle-dora\",  # Changed to dora for clarity\n",
    "    per_device_train_batch_size=2,\n",
    "    gradient_accumulation_steps=8,\n",
    "    warmup_ratio=0.1,\n",
    "    num_train_epochs=3,\n",
    "    learning_rate=1e-4,  # Next iteration experiment with slightly lower LR for DoRA\n",
    "    fp16=True,\n",
    "    logging_steps=10,\n",
    "    save_strategy=\"epoch\",\n",
    "    optim=\"adamw_torch\",\n",
    "    gradient_checkpointing=True,\n",
    "    gradient_checkpointing_kwargs={\"use_reentrant\": False},\n",
    "    report_to=\"none\"\n",
    ")\n",
    "\n",
    "# 9. Data Collator - No changes needed\n",
    "data_collator = DataCollatorForSeq2Seq(\n",
    "    tokenizer,\n",
    "    model=model,\n",
    "    label_pad_token_id=-100,\n",
    "    pad_to_multiple_of=8\n",
    ")\n",
    "\n",
    "# 10. Pre-Training Memory Check\n",
    "print(f\"Pre-train VRAM: {torch.cuda.memory_allocated()/1e9:.2f}GB used\")\n",
    "\n",
    "# 11. Trainer - No changes needed\n",
    "trainer = Trainer(\n",
    "    model=model,\n",
    "    args=training_args,\n",
    "    train_dataset=tokenized_dataset,\n",
    "    data_collator=data_collator,\n",
    ")\n",
    "\n",
    "# Start training\n",
    "trainer.train()"
   ]
  },
  {
   "cell_type": "markdown",
   "metadata": {},
   "source": [
    "## Save DoRA Weights"
   ]
  },
  {
   "cell_type": "code",
   "execution_count": null,
   "metadata": {},
   "outputs": [],
   "source": [
    "# 1. Save adapters (PEFT automatically excludes base model)\n",
    "model.save_pretrained(\n",
    "    \"llama7b-usmle-dora\",\n",
    "    safe_serialization=True,  # Uses modern .safetensors format\n",
    "    max_shard_size=\"200MB\" ) # Optional: splits large adapters"
   ]
  },
  {
   "cell_type": "markdown",
   "metadata": {},
   "source": [
    "## Push Model to Hugging Face"
   ]
  },
  {
   "cell_type": "code",
   "execution_count": null,
   "metadata": {},
   "outputs": [],
   "source": [
    "# 1. Define your custom model name\n",
    "MODEL_NAME = \"usmle-llama7b-dora\"  \n",
    "USERNAME = \"jihbr\"  # Your Hugging Face username\n",
    "\n",
    "# 2. Verify critical files\n",
    "import os\n",
    "required_files = {\n",
    "    \"adapter_config.json\": \"DoRA configuration\",\n",
    "    \"adapter_model.safetensors\": \"Adapter weights\"\n",
    "}\n",
    "for file, desc in required_files.items():\n",
    "    assert os.path.exists(f\"llama7b-usmle-dora/{file}\"), f\"Missing {desc} file\"\n",
    "\n",
    "# 3. Accelerated upload (5x faster in GCP)\n",
    "os.environ[\"HF_HUB_ENABLE_HF_TRANSFER\"] = \"1\"\n",
    "\n",
    "# 4. Upload with custom name\n",
    "from huggingface_hub import HfApi, create_repo\n",
    "\n",
    "# Create the repository with your custom name\n",
    "repo_url = create_repo(\n",
    "    repo_id=f\"{USERNAME}/{MODEL_NAME}\",  # Changed here\n",
    "    repo_type=\"model\",\n",
    "    token=True,\n",
    "    exist_ok=True\n",
    ")\n",
    "print(f\"Created repository: {repo_url}\")\n",
    "\n",
    "# Upload to your named repository\n",
    "HfApi().upload_folder(\n",
    "    folder_path=\"llama7b-usmle-dora\",\n",
    "    repo_id=f\"{USERNAME}/{MODEL_NAME}\",  # Changed here\n",
    "    repo_type=\"model\",\n",
    "    commit_message=\"Add USMLE DoRA adapters - Medical QA Fine-Tune\",\n",
    "    ignore_patterns=[\"*.bin\", \"pytorch_model*\"],\n",
    "    allow_patterns=[\"adapter_*\", \"README*\"]\n",
    ")\n",
    "\n",
    "print(\"✅ Adapters uploaded successfully to:\")\n",
    "print(f\"https://huggingface.co/{USERNAME}/{MODEL_NAME}\")  # Changed here"
   ]
  }
 ],
 "metadata": {
  "kernelspec": {
   "display_name": ".venv",
   "language": "python",
   "name": "python3"
  },
  "language_info": {
   "codemirror_mode": {
    "name": "ipython",
    "version": 3
   },
   "file_extension": ".py",
   "mimetype": "text/x-python",
   "name": "python",
   "nbconvert_exporter": "python",
   "pygments_lexer": "ipython3",
   "version": "3.11.13"
  }
 },
 "nbformat": 4,
 "nbformat_minor": 2
}
