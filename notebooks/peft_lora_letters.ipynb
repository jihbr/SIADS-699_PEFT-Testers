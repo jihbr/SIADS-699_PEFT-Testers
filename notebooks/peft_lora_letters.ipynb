{
 "cells": [
  {
   "cell_type": "markdown",
   "metadata": {},
   "source": [
    "# LoRA PEFT Fine Tuning (Letter Target Variable)"
   ]
  },
  {
   "cell_type": "markdown",
   "metadata": {},
   "source": [
    "## Load Data"
   ]
  },
  {
   "cell_type": "code",
   "execution_count": 1,
   "metadata": {},
   "outputs": [
    {
     "name": "stderr",
     "output_type": "stream",
     "text": [
      "/Users/joshhaber/SIADS-699_PEFT-Testers/.venv/lib/python3.11/site-packages/tqdm/auto.py:21: TqdmWarning: IProgress not found. Please update jupyter and ipywidgets. See https://ipywidgets.readthedocs.io/en/stable/user_install.html\n",
      "  from .autonotebook import tqdm as notebook_tqdm\n"
     ]
    },
    {
     "name": "stdout",
     "output_type": "stream",
     "text": [
      "Dataset({\n",
      "    features: ['question', 'answer', 'options', 'meta_info', 'answer_idx', 'metamap_phrases'],\n",
      "    num_rows: 10178\n",
      "})\n"
     ]
    }
   ],
   "source": [
    "from datasets import load_dataset\n",
    "import sys\n",
    "import os\n",
    "sys.path.append(os.path.abspath(os.path.join('..'))) \n",
    "from src.helper_functions import format_letter_finetuning\n",
    "\n",
    "\n",
    "# Load model\n",
    "usml_raw = load_dataset(\"GBaker/MedQA-USMLE-4-options\")\n",
    "usml_train = usml_raw['train']\n",
    "\n",
    "print(usml_train)"
   ]
  },
  {
   "cell_type": "markdown",
   "metadata": {},
   "source": [
    "## Pre-process the Dataset (Letter Strategy)"
   ]
  },
  {
   "cell_type": "code",
   "execution_count": 2,
   "metadata": {},
   "outputs": [
    {
     "name": "stderr",
     "output_type": "stream",
     "text": [
      "Map: 100%|██████████| 10178/10178 [00:00<00:00, 27829.96 examples/s]"
     ]
    },
    {
     "name": "stdout",
     "output_type": "stream",
     "text": [
      "Question: A 23-year-old pregnant woman at 22 weeks gestation presents with burning upon urination. She states it started 1 day ago and has been worsening despite drinking more water and taking cranberry extract. She otherwise feels well and is followed by a doctor for her pregnancy. Her temperature is 97.7°F (36.5°C), blood pressure is 122/77 mmHg, pulse is 80/min, respirations are 19/min, and oxygen saturation is 98% on room air. Physical exam is notable for an absence of costovertebral angle tenderness and a gravid uterus. Which of the following is the best treatment for this patient?\n",
      "A. Ampicillin\n",
      "B. Ceftriaxone\n",
      "C. Doxycycline\n",
      "D. Nitrofurantoin\n",
      "Answer:\n",
      "D\n"
     ]
    },
    {
     "name": "stderr",
     "output_type": "stream",
     "text": [
      "\n"
     ]
    }
   ],
   "source": [
    "formatted_train = usml_train.map(\n",
    "    format_letter_finetuning,\n",
    "    remove_columns=usml_train.column_names\n",
    ")\n",
    "\n",
    "print(formatted_train[0]['prompt'])\n",
    "print(formatted_train[0]['completion'])"
   ]
  },
  {
   "cell_type": "markdown",
   "metadata": {},
   "source": [
    "## Verify GPU and Tokenize Dataset"
   ]
  },
  {
   "cell_type": "code",
   "execution_count": 3,
   "metadata": {},
   "outputs": [
    {
     "name": "stdout",
     "output_type": "stream",
     "text": [
      "CUDA version: 12.6\n",
      "VRAM: 23.57GB\n"
     ]
    }
   ],
   "source": [
    "import torch\n",
    "from transformers import (\n",
    "    AutoTokenizer,\n",
    "    AutoModelForCausalLM,\n",
    "    TrainingArguments,\n",
    "    DataCollatorForSeq2Seq,\n",
    "    Trainer,\n",
    "    BitsAndBytesConfig  # New for QLoRA\n",
    ")\n",
    "from peft import LoraConfig, get_peft_model, prepare_model_for_kbit_training  # Updated imports\n",
    "\n",
    "\n",
    "# --- GPU Verification (Enhanced) ---\n",
    "assert torch.cuda.is_available(), \"GPU not detected!\"\n",
    "print(f\"CUDA version: {torch.version.cuda}\")\n",
    "print(f\"VRAM: {torch.cuda.get_device_properties(0).total_memory/1e9:.2f}GB\")\n",
    "torch.cuda.empty_cache()  # Clear cache before loading model\n",
    "\n",
    "# --- Tokenizer Setup (Llama 3 Specific) ---\n",
    "model_name = \"meta-llama/Meta-Llama-3-8B\"\n",
    "tokenizer = AutoTokenizer.from_pretrained(model_name, token=True)\n",
    "\n",
    "# Critical Llama 3 tokenizer settings\n",
    "tokenizer.pad_token = tokenizer.eos_token  # Required for padding\n",
    "tokenizer.padding_side = \"left\"  # Essential for autoregressive generation\n",
    "assert tokenizer.pad_token is not None, \"Padding token not set correctly!\"  # Validation\n",
    "\n",
    "# --- Tokenization Function (Optimized) ---\n",
    "def tokenize_function(examples):\n",
    "    # Combine prompt + completion\n",
    "    texts = [p + c for p, c in zip(examples['prompt'], examples['completion'])]\n",
    "    \n",
    "    # Tokenize with fixed-length padding\n",
    "    tokenized = tokenizer(\n",
    "        texts,\n",
    "        truncation=True,\n",
    "        max_length=512,\n",
    "        padding=\"max_length\",  # Ensures consistent length\n",
    "        return_tensors=\"pt\"  # Returns PyTorch tensors\n",
    "    )\n",
    "    \n",
    "    # Create labels (mask prompt tokens)\n",
    "    prompt_lens = [len(tokenizer(p)['input_ids']) for p in examples['prompt']]\n",
    "    labels = tokenized[\"input_ids\"].clone()\n",
    "    for i, plen in enumerate(prompt_lens):\n",
    "        labels[i, :plen] = -100  # Mask prompt tokens\n",
    "    \n",
    "    tokenized[\"labels\"] = labels\n",
    "    return tokenized\n",
    "\n",
    "# --- Dataset Tokenization (With Validation) ---\n",
    "tokenized_dataset = formatted_train.map(\n",
    "    tokenize_function,\n",
    "    batched=True,\n",
    "    remove_columns=['prompt', 'completion'],\n",
    "    batch_size=8  # Smaller batches prevent OOM during tokenization\n",
    ")\n",
    "\n",
    "# Verify dataset structure\n",
    "required_columns = [\"input_ids\", \"attention_mask\", \"labels\"]\n",
    "assert all(col in tokenized_dataset.features for col in required_columns), \\\n",
    "       f\"Tokenized dataset missing required columns: {required_columns}\"\n",
    "\n",
    "# For Hugging Face datasets (recommended)\n",
    "\n",
    "random_seed = 42\n",
    "train_val_split = tokenized_dataset.train_test_split(\n",
    "    test_size=0.1,  # 10% validation\n",
    "    shuffle=True,\n",
    "    seed = random_seed\n",
    ")\n",
    "train_data = train_val_split[\"train\"]\n",
    "val_data = train_val_split[\"test\"]  "
   ]
  },
  {
   "cell_type": "markdown",
   "metadata": {},
   "source": [
    "## Load Model, Configure LoRA, Collate Data, and Train"
   ]
  },
  {
   "cell_type": "code",
   "execution_count": null,
   "metadata": {},
   "outputs": [
    {
     "data": {
      "application/vnd.jupyter.widget-view+json": {
       "model_id": "2ef106111da045db9835605c3c6b5900",
       "version_major": 2,
       "version_minor": 0
      },
      "text/plain": [
       "Loading checkpoint shards:   0%|          | 0/4 [00:00<?, ?it/s]"
      ]
     },
     "metadata": {},
     "output_type": "display_data"
    },
    {
     "name": "stderr",
     "output_type": "stream",
     "text": [
      "No label_names provided for model class `PeftModelForCausalLM`. Since `PeftModel` hides base models input arguments, if label_names is not given, label_names can't be set automatically within `Trainer`. Note that empty label_names list will be used instead.\n"
     ]
    },
    {
     "name": "stdout",
     "output_type": "stream",
     "text": [
      "Available VRAM: 10.98GB\n",
      "trainable params: 3,407,872 || all params: 8,033,669,120 || trainable%: 0.0424\n"
     ]
    },
    {
     "data": {
      "text/html": [
       "\n",
       "    <div>\n",
       "      \n",
       "      <progress value='1719' max='1719' style='width:300px; height:20px; vertical-align: middle;'></progress>\n",
       "      [1719/1719 11:56:54, Epoch 3/3]\n",
       "    </div>\n",
       "    <table border=\"1\" class=\"dataframe\">\n",
       "  <thead>\n",
       " <tr style=\"text-align: left;\">\n",
       "      <th>Step</th>\n",
       "      <th>Training Loss</th>\n",
       "      <th>Validation Loss</th>\n",
       "    </tr>\n",
       "  </thead>\n",
       "  <tbody>\n",
       "    <tr>\n",
       "      <td>100</td>\n",
       "      <td>4.360900</td>\n",
       "      <td>4.017844</td>\n",
       "    </tr>\n",
       "    <tr>\n",
       "      <td>200</td>\n",
       "      <td>3.866700</td>\n",
       "      <td>3.943940</td>\n",
       "    </tr>\n",
       "    <tr>\n",
       "      <td>300</td>\n",
       "      <td>3.710600</td>\n",
       "      <td>3.928877</td>\n",
       "    </tr>\n",
       "    <tr>\n",
       "      <td>400</td>\n",
       "      <td>3.839000</td>\n",
       "      <td>3.921076</td>\n",
       "    </tr>\n",
       "    <tr>\n",
       "      <td>500</td>\n",
       "      <td>3.848700</td>\n",
       "      <td>3.914184</td>\n",
       "    </tr>\n",
       "    <tr>\n",
       "      <td>600</td>\n",
       "      <td>3.762400</td>\n",
       "      <td>3.910863</td>\n",
       "    </tr>\n",
       "    <tr>\n",
       "      <td>700</td>\n",
       "      <td>3.995000</td>\n",
       "      <td>3.908091</td>\n",
       "    </tr>\n",
       "    <tr>\n",
       "      <td>800</td>\n",
       "      <td>4.095700</td>\n",
       "      <td>3.906157</td>\n",
       "    </tr>\n",
       "    <tr>\n",
       "      <td>900</td>\n",
       "      <td>3.875500</td>\n",
       "      <td>3.904726</td>\n",
       "    </tr>\n",
       "    <tr>\n",
       "      <td>1000</td>\n",
       "      <td>3.885600</td>\n",
       "      <td>3.903224</td>\n",
       "    </tr>\n",
       "    <tr>\n",
       "      <td>1100</td>\n",
       "      <td>4.067900</td>\n",
       "      <td>3.902380</td>\n",
       "    </tr>\n",
       "    <tr>\n",
       "      <td>1200</td>\n",
       "      <td>3.986500</td>\n",
       "      <td>3.901674</td>\n",
       "    </tr>\n",
       "    <tr>\n",
       "      <td>1300</td>\n",
       "      <td>3.602200</td>\n",
       "      <td>3.901196</td>\n",
       "    </tr>\n",
       "    <tr>\n",
       "      <td>1400</td>\n",
       "      <td>3.887300</td>\n",
       "      <td>3.900877</td>\n",
       "    </tr>\n",
       "    <tr>\n",
       "      <td>1500</td>\n",
       "      <td>3.958300</td>\n",
       "      <td>3.900720</td>\n",
       "    </tr>\n",
       "    <tr>\n",
       "      <td>1600</td>\n",
       "      <td>3.496400</td>\n",
       "      <td>3.900635</td>\n",
       "    </tr>\n",
       "    <tr>\n",
       "      <td>1700</td>\n",
       "      <td>3.850900</td>\n",
       "      <td>3.900599</td>\n",
       "    </tr>\n",
       "  </tbody>\n",
       "</table><p>"
      ],
      "text/plain": [
       "<IPython.core.display.HTML object>"
      ]
     },
     "metadata": {},
     "output_type": "display_data"
    },
    {
     "data": {
      "text/plain": [
       "TrainOutput(global_step=1719, training_loss=3.9048510280163082, metrics={'train_runtime': 43036.5054, 'train_samples_per_second': 0.639, 'train_steps_per_second': 0.04, 'total_flos': 6.338426213656166e+17, 'train_loss': 3.9048510280163082, 'epoch': 3.0})"
      ]
     },
     "execution_count": 4,
     "metadata": {},
     "output_type": "execute_result"
    }
   ],
   "source": [
    "# --- 1. Memory Optimization ---\n",
    "torch.cuda.empty_cache()\n",
    "\n",
    "# --- 2. QLoRA 4-bit Quantization ---\n",
    "quant_config = BitsAndBytesConfig(\n",
    "    load_in_4bit=True,\n",
    "    bnb_4bit_quant_type=\"nf4\",\n",
    "    bnb_4bit_compute_dtype=torch.float16,\n",
    "    bnb_4bit_use_double_quant=True  # Extra memory savings\n",
    ")\n",
    "\n",
    "# --- 3. Model Loading (No CPU offloading) ---\n",
    "model = AutoModelForCausalLM.from_pretrained(\n",
    "    \"meta-llama/Meta-Llama-3-8B\",\n",
    "    quantization_config=quant_config,\n",
    "    device_map=\"auto\",  # Automatically uses GPU(s)\n",
    "    token=True\n",
    ")\n",
    "model = prepare_model_for_kbit_training(model)\n",
    "\n",
    "# --- 4. LoRA Config (Optimized for QLoRA) ---\n",
    "lora_config = LoraConfig(\n",
    "    r=8,  # Can use higher rank than standard LoRA\n",
    "    lora_alpha=16,\n",
    "    target_modules=[\"q_proj\", \"v_proj\"],  # Focus on attention layers\n",
    "    lora_dropout=0.05,\n",
    "    bias=\"none\",\n",
    "    task_type=\"CAUSAL_LM\"\n",
    ")\n",
    "model = get_peft_model(model, lora_config)\n",
    "\n",
    "# --- 5. Critical QLoRA Optimizations ---\n",
    "model.config.use_cache = False  # Saves 20% VRAM\n",
    "model.config.pretraining_tp = 1  # Disables tensor parallelism\n",
    "\n",
    "# --- 6. Training Arguments (Updated for QLoRA + Validation) ---\n",
    "training_args = TrainingArguments(\n",
    "    output_dir=\"./llama8b-usmle-qlora-letters\",\n",
    "    # Batch Configuration\n",
    "    per_device_train_batch_size=1,           # Reduced from 2 for stability\n",
    "    gradient_accumulation_steps=16,          # Effective batch=16\n",
    "    # Learning Rate\n",
    "    learning_rate=3e-5,                      # Reduced from 5e-5\n",
    "    lr_scheduler_type=\"cosine_with_restarts\", # Better for unstable loss\n",
    "    warmup_steps=150,                        # Longer warmup\n",
    "    # Optimization\n",
    "    optim=\"paged_adamw_8bit\",\n",
    "    weight_decay=0.01,                       # NEW: Regularization\n",
    "    max_grad_norm=0.3,                       # Gradient clipping\n",
    "    # Memory Management\n",
    "    fp16=True,\n",
    "    gradient_checkpointing=True,\n",
    "    gradient_checkpointing_kwargs={\"use_reentrant\": False},\n",
    "    # Monitoring & Saving\n",
    "    logging_steps=5,\n",
    "    eval_strategy=\"steps\",              # NEW: Critical for validation\n",
    "    eval_steps=100,                          # Evaluate every 100 steps\n",
    "    save_strategy=\"steps\",\n",
    "    save_steps=100,\n",
    "    load_best_model_at_end=True,             # NEW: Keep best checkpoint\n",
    "    metric_for_best_model=\"eval_loss\",       # NEW\n",
    "    greater_is_better=False,                 # NEW: Lower eval_loss=better\n",
    "    report_to=\"none\"\n",
    ")\n",
    "\n",
    "# --- 7. Memory Verification ---\n",
    "print(f\"Available VRAM: {torch.cuda.mem_get_info()[0]/1e9:.2f}GB\")\n",
    "model.print_trainable_parameters()\n",
    "\n",
    "# --- 8. Trainer (Updated with Validation) ---\n",
    "trainer = Trainer(\n",
    "    model=model,\n",
    "    args=training_args,\n",
    "    train_dataset=train_data,                # From train_test_split\n",
    "    eval_dataset=val_data,                   # NEW: Validation set\n",
    "    data_collator=DataCollatorForSeq2Seq(\n",
    "        tokenizer,\n",
    "        pad_to_multiple_of=8,\n",
    "        label_pad_token_id=-100\n",
    "    ),\n",
    "\n",
    ")\n",
    "# --- 9. Train ---\n",
    "trainer.train()"
   ]
  },
  {
   "cell_type": "markdown",
   "metadata": {},
   "source": [
    "## Save QLoRA Weights"
   ]
  },
  {
   "cell_type": "code",
   "execution_count": 5,
   "metadata": {},
   "outputs": [],
   "source": [
    "# 1. Save adapters (PEFT automatically excludes base model)\n",
    "model.save_pretrained(\n",
    "    \"llama8b-usmle-qlora_letters\",\n",
    "    safe_serialization=True,  # Uses modern .safetensors format\n",
    "    max_shard_size=\"200MB\" ) # Optional: splits large adapters"
   ]
  },
  {
   "cell_type": "markdown",
   "metadata": {},
   "source": [
    "## Push Model to Hugging Face"
   ]
  },
  {
   "cell_type": "code",
   "execution_count": 6,
   "metadata": {},
   "outputs": [
    {
     "name": "stdout",
     "output_type": "stream",
     "text": [
      "Verifying files in: /home/jupyter/SIADS-699_PEFT-Testers/notebooks/llama8b-usmle-qlora\n",
      "Found files: ['adapter_model.safetensors', 'adapter_config.json', 'README.md']\n",
      "Created repository: https://huggingface.co/jihbr/usmle-llama8b-qlora\n"
     ]
    },
    {
     "data": {
      "application/vnd.jupyter.widget-view+json": {
       "model_id": "c52b0c88807c4b1eb058ecd775ce3411",
       "version_major": 2,
       "version_minor": 0
      },
      "text/plain": [
       "Uploading...:   0%|          | 0.00/13.6M [00:00<?, ?B/s]"
      ]
     },
     "metadata": {},
     "output_type": "display_data"
    },
    {
     "name": "stdout",
     "output_type": "stream",
     "text": [
      "✅ Upload successful!\n",
      "View at: https://huggingface.co/jihbr/usmle-llama8b-qlora\n"
     ]
    }
   ],
   "source": [
    "import os\n",
    "from huggingface_hub import HfApi, create_repo\n",
    "\n",
    "# 1. Configuration - MUST MATCH YOUR SAVE PATH!\n",
    "SAVE_DIR = \"llama8b-usmle-qlora_letters\"  # Exactly matches save_pretrained() path\n",
    "MODEL_NAME = \"usmle-llama8b-qlora_letters\"  \n",
    "USERNAME = \"jihbr\"\n",
    "\n",
    "# 2. Verify saved files (immediately after save_pretrained)\n",
    "required_files = {\n",
    "    \"adapter_config.json\": \"QLoRA configuration\",\n",
    "    \"adapter_model.safetensors\": \"Adapter weights\",\n",
    "    \"README.md\": \"Model card\"  # Recommended to add\n",
    "}\n",
    "\n",
    "print(f\"Verifying files in: {os.path.abspath(SAVE_DIR)}\")\n",
    "print(\"Found files:\", os.listdir(SAVE_DIR))\n",
    "\n",
    "for file, desc in required_files.items():\n",
    "    file_path = os.path.join(SAVE_DIR, file)\n",
    "    assert os.path.exists(file_path), f\"Missing {desc} at {file_path}\\nFull path: {os.path.abspath(file_path)}\"\n",
    "\n",
    "# 3. Prepare for Upload\n",
    "os.environ[\"HF_HUB_ENABLE_HF_TRANSFER\"] = \"1\"  # Faster uploads\n",
    "\n",
    "# 4. Create Hub repository\n",
    "try:\n",
    "    repo_url = create_repo(\n",
    "        repo_id=f\"{USERNAME}/{MODEL_NAME}\",\n",
    "        repo_type=\"model\",\n",
    "        token=True,\n",
    "        exist_ok=True\n",
    "    )\n",
    "    print(f\"Created repository: {repo_url}\")\n",
    "except Exception as e:\n",
    "    raise RuntimeError(f\"Repo creation failed. Does the token have write access?\\n{str(e)}\")\n",
    "\n",
    "# 5. Upload with progress tracking\n",
    "api = HfApi()\n",
    "try:\n",
    "    upload_result = api.upload_folder(\n",
    "        folder_path=SAVE_DIR,\n",
    "        repo_id=f\"{USERNAME}/{MODEL_NAME}\",\n",
    "        commit_message=f\"USMLE QLoRA adapters - {MODEL_NAME}\",\n",
    "        allow_patterns=[\n",
    "            \"adapter_config.json\",\n",
    "            \"adapter_model.safetensors\",\n",
    "            \"README.md\",\n",
    "            \"training_args.bin\"\n",
    "        ],\n",
    "        ignore_patterns=[\"*.bin\", \"pytorch_model*\"],\n",
    "    )\n",
    "    print(f\"✅ Upload successful!\\nView at: https://huggingface.co/{USERNAME}/{MODEL_NAME}\")\n",
    "except Exception as e:\n",
    "    print(f\"❌ Upload failed. Check your internet connection and HF token.\\n{str(e)}\")\n",
    "    # Suggested recovery:\n",
    "    print(\"Try re-running just the upload:\")\n",
    "    print(f\"huggingface-cli upload {USERNAME}/{MODEL_NAME} {SAVE_DIR}/*\")"
   ]
  },
  {
   "cell_type": "code",
   "execution_count": null,
   "metadata": {},
   "outputs": [],
   "source": []
  }
 ],
 "metadata": {
  "environment": {
   "kernel": "conda-base-py",
   "name": "workbench-notebooks.m130",
   "type": "gcloud",
   "uri": "us-docker.pkg.dev/deeplearning-platform-release/gcr.io/workbench-notebooks:m130"
  },
  "kernelspec": {
   "display_name": ".venv",
   "language": "python",
   "name": "python3"
  },
  "language_info": {
   "codemirror_mode": {
    "name": "ipython",
    "version": 3
   },
   "file_extension": ".py",
   "mimetype": "text/x-python",
   "name": "python",
   "nbconvert_exporter": "python",
   "pygments_lexer": "ipython3",
   "version": "3.11.13"
  }
 },
 "nbformat": 4,
 "nbformat_minor": 4
}
