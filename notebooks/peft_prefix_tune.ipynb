{
 "cells": [
  {
   "cell_type": "markdown",
   "id": "3557bf14-c2f8-4517-afef-d962f959491b",
   "metadata": {},
   "source": [
    "# Prefix Tuning on Subset of USMLE"
   ]
  },
  {
   "cell_type": "markdown",
   "id": "3790d3bd-9d8e-4e2f-8475-191bff66c9c3",
   "metadata": {},
   "source": [
    "## Setup"
   ]
  },
  {
   "cell_type": "code",
   "execution_count": 1,
   "id": "f15eb0b0-0ee6-458e-a208-d389d3bb603e",
   "metadata": {},
   "outputs": [
    {
     "name": "stdout",
     "output_type": "stream",
     "text": [
      "CUDA version: 12.1\n",
      "VRAM: 23.57GB\n"
     ]
    }
   ],
   "source": [
    "import torch\n",
    "from transformers import (\n",
    "    AutoTokenizer, \n",
    "    AutoModelForCausalLM, \n",
    "    default_data_collator, \n",
    "    get_linear_schedule_with_warmup\n",
    ")\n",
    "from peft import (\n",
    "    get_peft_model, \n",
    "    PrefixTuningConfig, \n",
    "    TaskType\n",
    ")\n",
    "from accelerate import dispatch_model, infer_auto_device_map\n",
    "from datasets import load_dataset\n",
    "from torch.utils.data import DataLoader\n",
    "from tqdm import tqdm\n",
    "import torch\n",
    "import os\n",
    "import sys\n",
    "\n",
    "#  GPU Verification\n",
    "assert torch.cuda.is_available(), \"GPU not detected!\"\n",
    "print(f\"CUDA version: {torch.version.cuda}\")\n",
    "print(f\"VRAM: {torch.cuda.get_device_properties(0).total_memory/1e9:.2f}GB\")\n",
    "torch.cuda.empty_cache()\n",
    "\n",
    "# --- 3. Model and Tokenizer Setup ---\n",
    "model_name = \"meta-llama/Llama-2-7b-hf\"\n",
    "\n",
    "tokenizer = AutoTokenizer.from_pretrained(model_name)\n",
    "tokenizer.pad_token = tokenizer.eos_token  # For causal LM padding\n",
    "\n",
    "# --- 4. Hyperparameters ---\n",
    "max_length = 128\n",
    "lr = 1e-2\n",
    "num_epochs = 3\n",
    "batch_size = 2"
   ]
  },
  {
   "cell_type": "markdown",
   "id": "379f4098-6b19-49b2-ac0d-15edca941fbf",
   "metadata": {},
   "source": [
    "## Load Data"
   ]
  },
  {
   "cell_type": "code",
   "execution_count": 2,
   "id": "1d0967bf-a6e9-4806-8dd2-95949fcdea68",
   "metadata": {},
   "outputs": [
    {
     "name": "stdout",
     "output_type": "stream",
     "text": [
      "Dataset({\n",
      "    features: ['question', 'answer', 'options', 'meta_info', 'answer_idx', 'metamap_phrases'],\n",
      "    num_rows: 100\n",
      "})\n"
     ]
    }
   ],
   "source": [
    "sys.path.append(os.path.abspath(os.path.join('..'))) \n",
    "from src.helper_functions import format_mcf_finetuning\n",
    "\n",
    "\n",
    "# Load model\n",
    "usml_raw = load_dataset(\"GBaker/MedQA-USMLE-4-options\")\n",
    "usml_train = usml_raw['train']\n",
    "sample_train = usml_train.shuffle(seed=42).select(range(100))\n",
    "print(sample_train)"
   ]
  },
  {
   "cell_type": "code",
   "execution_count": 3,
   "id": "ab4021e8-2522-46b4-a60d-0bfae614c37f",
   "metadata": {},
   "outputs": [
    {
     "name": "stdout",
     "output_type": "stream",
     "text": [
      "Question: A 35-year-old woman comes to your office with a variety of complaints. As part of her evaluation, she undergoes laboratory testing which reveals the presence of anti-centromere antibodies. All of the following symptoms and signs would be expected to be present EXCEPT:\n",
      "A. Pallor, cyanosis, and erythema of the hands\n",
      "B. Blanching vascular abnormalities\n",
      "C. Hypercoagulable state\n",
      "D. Heartburn and regurgitation\n",
      "Answer:\n",
      "Hypercoagulable state\n"
     ]
    }
   ],
   "source": [
    "formatted_train_subset = sample_train.map(\n",
    "    format_mcf_finetuning,\n",
    "    remove_columns=sample_train.column_names\n",
    ")\n",
    "\n",
    "print(formatted_train_subset[0]['prompt'])\n",
    "print(formatted_train_subset[0]['completion'])"
   ]
  },
  {
   "cell_type": "markdown",
   "id": "09667e4f-aa9f-411e-bc18-39b34cc3f967",
   "metadata": {},
   "source": [
    "## Tokenize Data"
   ]
  },
  {
   "cell_type": "code",
   "execution_count": 4,
   "id": "5ae86386-f9d8-4699-9585-9ac383410f46",
   "metadata": {},
   "outputs": [],
   "source": [
    "# 5. Tokenization Function\n",
    "def tokenize_function(examples):\n",
    "    texts = [p + c for p, c in zip(examples['prompt'], examples['completion'])]\n",
    "    \n",
    "    tokenized = tokenizer(\n",
    "        texts,\n",
    "        truncation=True,\n",
    "        max_length=512,\n",
    "        padding=\"max_length\",\n",
    "        return_tensors=\"pt\"\n",
    "    )\n",
    "    \n",
    "    # Create labels (mask prompt tokens)\n",
    "    prompt_lens = [len(tokenizer(p)['input_ids']) for p in examples['prompt']]\n",
    "    labels = tokenized[\"input_ids\"].clone()\n",
    "    for i, plen in enumerate(prompt_lens):\n",
    "        labels[i, :plen] = -100\n",
    "    \n",
    "    tokenized[\"labels\"] = labels\n",
    "    return tokenized\n",
    "\n",
    "# 6. Apply tokenization\n",
    "tokenized_dataset = formatted_train_subset.map(\n",
    "    tokenize_function,\n",
    "    batched=True,\n",
    "    remove_columns=['prompt', 'completion'],\n",
    "    batch_size=8  # Smaller batches for tokenization\n",
    ")"
   ]
  },
  {
   "cell_type": "markdown",
   "id": "606e1743-2e0e-4c52-8cd2-e2b47ba1fa74",
   "metadata": {},
   "source": [
    "## Data Loader"
   ]
  },
  {
   "cell_type": "code",
   "execution_count": 5,
   "id": "6c9a6edc-fa65-4cdf-98fc-26ff16c7f57a",
   "metadata": {},
   "outputs": [],
   "source": [
    "train_dataloader = DataLoader(\n",
    "    tokenized_dataset,\n",
    "    shuffle=True,\n",
    "    batch_size=batch_size,\n",
    "    collate_fn=default_data_collator\n",
    ")"
   ]
  },
  {
   "cell_type": "markdown",
   "id": "2997993b-6566-4b2b-a098-7ebd51eca397",
   "metadata": {},
   "source": [
    "## Prefix Tuning"
   ]
  },
  {
   "cell_type": "code",
   "execution_count": 6,
   "id": "24ce11ff-a9bb-4a9b-a6ba-088bec296ffe",
   "metadata": {},
   "outputs": [
    {
     "data": {
      "application/vnd.jupyter.widget-view+json": {
       "model_id": "e1351158a1764661996f76f0214dedfd",
       "version_major": 2,
       "version_minor": 0
      },
      "text/plain": [
       "Loading checkpoint shards:   0%|          | 0/2 [00:00<?, ?it/s]"
      ]
     },
     "metadata": {},
     "output_type": "display_data"
    },
    {
     "name": "stdout",
     "output_type": "stream",
     "text": [
      "trainable params: 5,242,880 || all params: 6,743,658,496 || trainable%: 0.0777\n"
     ]
    }
   ],
   "source": [
    "peft_config = PrefixTuningConfig(\n",
    "    task_type=TaskType.CAUSAL_LM,  # Correct for LLaMA\n",
    "    inference_mode=False,\n",
    "    num_virtual_tokens=20\n",
    ")\n",
    "\n",
    "# Load LLaMA-2\n",
    "model = AutoModelForCausalLM.from_pretrained(\n",
    "    model_name,\n",
    "    device_map=\"auto\",\n",
    "    torch_dtype=torch.float16,  # For speed and lower memory\n",
    "    token=True\n",
    ")\n",
    "\n",
    "model = get_peft_model(model, peft_config)\n",
    "model.print_trainable_parameters()"
   ]
  },
  {
   "cell_type": "markdown",
   "id": "93a014f6-5f32-4f8a-a42a-4985328af8de",
   "metadata": {},
   "source": [
    "## Optimizer & Scheduler"
   ]
  },
  {
   "cell_type": "code",
   "execution_count": 7,
   "id": "2a718ea3-fa2e-4bb0-ab0a-02b2657a0a35",
   "metadata": {},
   "outputs": [],
   "source": [
    "optimizer = torch.optim.AdamW(model.parameters(), lr=lr)\n",
    "lr_scheduler = get_linear_schedule_with_warmup(\n",
    "    optimizer,\n",
    "    num_warmup_steps=10,\n",
    "    num_training_steps=len(train_dataloader) * num_epochs,\n",
    ")"
   ]
  },
  {
   "cell_type": "markdown",
   "id": "2b8f7235-af8a-41b2-8f6a-e6b6046e19e3",
   "metadata": {},
   "source": [
    "## Training"
   ]
  },
  {
   "cell_type": "code",
   "execution_count": 11,
   "id": "cc01c919-f6af-4128-9ebe-4380c2cd8dbe",
   "metadata": {},
   "outputs": [
    {
     "name": "stderr",
     "output_type": "stream",
     "text": [
      "No label_names provided for model class `PeftModelForCausalLM`. Since `PeftModel` hides base models input arguments, if label_names is not given, label_names can't be set automatically within `Trainer`. Note that empty label_names list will be used instead.\n"
     ]
    },
    {
     "data": {
      "text/html": [
       "\n",
       "    <div>\n",
       "      \n",
       "      <progress value='150' max='150' style='width:300px; height:20px; vertical-align: middle;'></progress>\n",
       "      [150/150 01:51, Epoch 3/3]\n",
       "    </div>\n",
       "    <table border=\"1\" class=\"dataframe\">\n",
       "  <thead>\n",
       " <tr style=\"text-align: left;\">\n",
       "      <th>Step</th>\n",
       "      <th>Training Loss</th>\n",
       "    </tr>\n",
       "  </thead>\n",
       "  <tbody>\n",
       "    <tr>\n",
       "      <td>10</td>\n",
       "      <td>8.036600</td>\n",
       "    </tr>\n",
       "    <tr>\n",
       "      <td>20</td>\n",
       "      <td>5.768900</td>\n",
       "    </tr>\n",
       "    <tr>\n",
       "      <td>30</td>\n",
       "      <td>4.205600</td>\n",
       "    </tr>\n",
       "    <tr>\n",
       "      <td>40</td>\n",
       "      <td>3.480800</td>\n",
       "    </tr>\n",
       "    <tr>\n",
       "      <td>50</td>\n",
       "      <td>2.847900</td>\n",
       "    </tr>\n",
       "    <tr>\n",
       "      <td>60</td>\n",
       "      <td>2.456200</td>\n",
       "    </tr>\n",
       "    <tr>\n",
       "      <td>70</td>\n",
       "      <td>2.321500</td>\n",
       "    </tr>\n",
       "    <tr>\n",
       "      <td>80</td>\n",
       "      <td>2.238400</td>\n",
       "    </tr>\n",
       "    <tr>\n",
       "      <td>90</td>\n",
       "      <td>2.208500</td>\n",
       "    </tr>\n",
       "    <tr>\n",
       "      <td>100</td>\n",
       "      <td>2.198100</td>\n",
       "    </tr>\n",
       "    <tr>\n",
       "      <td>110</td>\n",
       "      <td>1.898800</td>\n",
       "    </tr>\n",
       "    <tr>\n",
       "      <td>120</td>\n",
       "      <td>1.836500</td>\n",
       "    </tr>\n",
       "    <tr>\n",
       "      <td>130</td>\n",
       "      <td>1.724000</td>\n",
       "    </tr>\n",
       "    <tr>\n",
       "      <td>140</td>\n",
       "      <td>1.762900</td>\n",
       "    </tr>\n",
       "    <tr>\n",
       "      <td>150</td>\n",
       "      <td>1.789700</td>\n",
       "    </tr>\n",
       "  </tbody>\n",
       "</table><p>"
      ],
      "text/plain": [
       "<IPython.core.display.HTML object>"
      ]
     },
     "metadata": {},
     "output_type": "display_data"
    },
    {
     "data": {
      "text/plain": [
       "TrainOutput(global_step=150, training_loss=2.9849599329630534, metrics={'train_runtime': 112.705, 'train_samples_per_second': 2.662, 'train_steps_per_second': 1.331, 'total_flos': 6089327876505600.0, 'train_loss': 2.9849599329630534, 'epoch': 3.0})"
      ]
     },
     "execution_count": 11,
     "metadata": {},
     "output_type": "execute_result"
    }
   ],
   "source": [
    "from transformers import Trainer, TrainingArguments, DataCollatorForLanguageModeling\n",
    "\n",
    "# 1. Training arguments - configure as needed\n",
    "training_args = TrainingArguments(\n",
    "    output_dir=\"./llama7b-prefix\",\n",
    "    num_train_epochs=num_epochs,\n",
    "    per_device_train_batch_size=batch_size,\n",
    "    learning_rate=lr, \n",
    "    logging_steps=10,\n",
    "    save_strategy=\"epoch\",\n",
    "    fp16=True,\n",
    "    report_to=\"none\",\n",
    ")\n",
    "\n",
    "# 2. Data collator to handle padding and labels\n",
    "data_collator = DataCollatorForLanguageModeling(\n",
    "    tokenizer=tokenizer,\n",
    "    mlm=False,  # for causal LM (e.g. LLaMA, GPT)\n",
    ")\n",
    "\n",
    "# 3. Initialize the Trainer\n",
    "trainer = Trainer(\n",
    "    model=model,\n",
    "    args=training_args,\n",
    "    train_dataset=tokenized_dataset,  # your tokenized train dataset\n",
    "    data_collator=data_collator,\n",
    "    optimizers=(optimizer, lr_scheduler)\n",
    ")\n",
    "\n",
    "# 4. Start training\n",
    "trainer.train()"
   ]
  },
  {
   "cell_type": "markdown",
   "id": "8f3d6994-6ca5-493a-8a8b-2bd47f28b7dd",
   "metadata": {},
   "source": [
    "## Save adapters - to not exclude full model"
   ]
  },
  {
   "cell_type": "code",
   "execution_count": null,
   "id": "95208d12",
   "metadata": {},
   "outputs": [],
   "source": [
    "model.save_pretrained(\n",
    "    \"llama7b-prefix-subset\",\n",
    "    safe_serialization=True,  # Uses modern .safetensors format\n",
    "    max_shard_size=\"200MB\"  # Optional: splits large adapters\n",
    ")"
   ]
  },
  {
   "cell_type": "markdown",
   "id": "7da7c272",
   "metadata": {},
   "source": [
    "## Upload model to Huggingface"
   ]
  },
  {
   "cell_type": "markdown",
   "id": "4a10d3e8",
   "metadata": {},
   "source": [
    "!pip install huggingface_hub transformers"
   ]
  },
  {
   "cell_type": "code",
   "execution_count": null,
   "id": "1ff4deee",
   "metadata": {},
   "outputs": [],
   "source": [
    "from huggingface_hub import login\n",
    "# Place Login Token\n",
    "login(token=\"LOGIN_TOKEN\")"
   ]
  },
  {
   "cell_type": "code",
   "execution_count": null,
   "id": "4be005db",
   "metadata": {},
   "outputs": [],
   "source": [
    "# 1. Define your custom model name\n",
    "MODEL_NAME = \"llama7b-prefix-subset\"  \n",
    "USERNAME = \"pippalap\"  # Your Hugging Face username\n",
    "\n",
    "model.push_to_hub(\"pippalap/llama7b-prefix-subset\")"
   ]
  },
  {
   "cell_type": "code",
   "execution_count": null,
   "id": "5d1283f6",
   "metadata": {},
   "outputs": [],
   "source": [
    "# CommitInfo(commit_url='https://huggingface.co/pippalap/llama7b-prefix-subset/commit/ee52723c2b44d04181b4f5be0bcaeb10fda69172', commit_message='Upload model', \n",
    "# commit_description='', oid='ee52723c2b44d04181b4f5be0bcaeb10fda69172', pr_url=None, repo_url=RepoUrl('https://huggingface.co/pippalap/llama7b-prefix-subset', \n",
    "# endpoint='https://huggingface.co', repo_type='model', repo_id='pippalap/llama7b-prefix-subset'), pr_revision=None, pr_num=None)"
   ]
  }
 ],
 "metadata": {
  "environment": {
   "kernel": "conda-base-py",
   "name": "workbench-notebooks.m130",
   "type": "gcloud",
   "uri": "us-docker.pkg.dev/deeplearning-platform-release/gcr.io/workbench-notebooks:m130"
  },
  "kernelspec": {
   "display_name": "Python 3 (ipykernel) (Local)",
   "language": "python",
   "name": "conda-base-py"
  },
  "language_info": {
   "codemirror_mode": {
    "name": "ipython",
    "version": 3
   },
   "file_extension": ".py",
   "mimetype": "text/x-python",
   "name": "python",
   "nbconvert_exporter": "python",
   "pygments_lexer": "ipython3",
   "version": "3.10.18"
  }
 },
 "nbformat": 4,
 "nbformat_minor": 5
}
