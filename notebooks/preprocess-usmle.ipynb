{
 "cells": [
  {
   "cell_type": "markdown",
   "id": "191bc8d9-05de-47b7-b1a7-721f19962c4a",
   "metadata": {},
   "source": [
    "# Preprocess USMLE for finetuning and evaluation"
   ]
  },
  {
   "cell_type": "markdown",
   "id": "c5bb4c15-43e4-4919-9d54-7473af9950b0",
   "metadata": {},
   "source": [
    "## Create version for finetuning"
   ]
  },
  {
   "cell_type": "code",
   "execution_count": 1,
   "id": "c12f17cb-b4bb-414e-973b-da409bfb71f4",
   "metadata": {},
   "outputs": [
    {
     "name": "stderr",
     "output_type": "stream",
     "text": [
      "/Users/joshhaber/SIADS-699_PEFT-Testers/.venv/lib/python3.11/site-packages/tqdm/auto.py:21: TqdmWarning: IProgress not found. Please update jupyter and ipywidgets. See https://ipywidgets.readthedocs.io/en/stable/user_install.html\n",
      "  from .autonotebook import tqdm as notebook_tqdm\n"
     ]
    },
    {
     "name": "stdout",
     "output_type": "stream",
     "text": [
      "DatasetDict({\n",
      "    train: Dataset({\n",
      "        features: ['question', 'answer', 'options', 'meta_info', 'answer_idx', 'metamap_phrases'],\n",
      "        num_rows: 10178\n",
      "    })\n",
      "    test: Dataset({\n",
      "        features: ['question', 'answer', 'options', 'meta_info', 'answer_idx', 'metamap_phrases'],\n",
      "        num_rows: 1273\n",
      "    })\n",
      "})\n"
     ]
    }
   ],
   "source": [
    "from datasets import load_dataset\n",
    "\n",
    "gcs_bucket_name = \"open-llm-finetuning\"\n",
    "\n",
    "# Load model\n",
    "usml_raw = load_dataset(\"GBaker/MedQA-USMLE-4-options\")\n",
    "usml_train = usml_raw['train']\n",
    "\n",
    "print(usml_raw)"
   ]
  },
  {
   "cell_type": "code",
   "execution_count": null,
   "id": "d6449333-978f-425c-afdf-9c0c22e11925",
   "metadata": {},
   "outputs": [],
   "source": [
    "# Preprocess dataset for finetuning\n",
    "def format_mcf_finetuning(example):\n",
    "    option_keys = sorted(example['options'].keys())\n",
    "    formatted_options = \"\\n\".join([f\"{key}. {example['options'][key]}\" for key in option_keys])\n",
    "    prompt = f\"Question: {example['question']}\\n{formatted_options}\\nAnswer:\"\n",
    "    completion = example['answer']\n",
    "    return {\"prompt\": prompt, \"completion\": completion}\n",
    "\n",
    "usml_train_data = usml_train.map(\n",
    "    format_mcf_finetuning,\n",
    "    remove_columns=usml_train.column_names\n",
    ")\n",
    "\n",
    "# Save\n",
    "#usml_train_data.save_to_disk(f\"gcs://{gcs_bucket_name}/data/finetuning/train_usml\")"
   ]
  },
  {
   "cell_type": "code",
   "execution_count": 3,
   "id": "0348ebee-1b5f-44c5-a856-699f51c7d763",
   "metadata": {},
   "outputs": [
    {
     "name": "stdout",
     "output_type": "stream",
     "text": [
      "Question: A 23-year-old pregnant woman at 22 weeks gestation presents with burning upon urination. She states it started 1 day ago and has been worsening despite drinking more water and taking cranberry extract. She otherwise feels well and is followed by a doctor for her pregnancy. Her temperature is 97.7°F (36.5°C), blood pressure is 122/77 mmHg, pulse is 80/min, respirations are 19/min, and oxygen saturation is 98% on room air. Physical exam is notable for an absence of costovertebral angle tenderness and a gravid uterus. Which of the following is the best treatment for this patient?\n",
      "A. Ampicillin\n",
      "B. Ceftriaxone\n",
      "C. Doxycycline\n",
      "D. Nitrofurantoin\n",
      "Answer:\n",
      "Nitrofurantoin\n"
     ]
    }
   ],
   "source": [
    "print(usml_train_data[0]['prompt'])\n",
    "print(usml_train_data[0]['completion'])"
   ]
  },
  {
   "cell_type": "markdown",
   "id": "d3f9c313-4481-4424-89b1-2e7cf4824d2f",
   "metadata": {},
   "source": [
    "## Version for evaluation"
   ]
  },
  {
   "cell_type": "code",
   "execution_count": 5,
   "id": "d10ca5df-b3c3-4c01-87e6-0009f0c2f2d4",
   "metadata": {},
   "outputs": [],
   "source": [
    "usml_eval = usml_raw['test']\n",
    "\n",
    "usml_eval_data = usml_eval.map(\n",
    "    format_mcf_finetuning,\n",
    "    remove_columns=usml_eval.column_names\n",
    ")\n",
    "\n",
    "# Save\n",
    "#usml_eval_data.save_to_disk(f\"gcs://{gcs_bucket_name}/data/finetuning/eval_usml\")"
   ]
  },
  {
   "cell_type": "markdown",
   "id": "2cb0901b",
   "metadata": {},
   "source": [
    "## Preprocess Prompt and Answer Letter for Completion"
   ]
  },
  {
   "cell_type": "code",
   "execution_count": 6,
   "id": "cc383e99-c4b9-4c44-80f1-c115dc8fba8c",
   "metadata": {},
   "outputs": [
    {
     "name": "stderr",
     "output_type": "stream",
     "text": [
      "Map: 100%|██████████| 10178/10178 [00:00<00:00, 27516.80 examples/s]"
     ]
    },
    {
     "name": "stdout",
     "output_type": "stream",
     "text": [
      "Question: A 23-year-old pregnant woman at 22 weeks gestation presents with burning upon urination. She states it started 1 day ago and has been worsening despite drinking more water and taking cranberry extract. She otherwise feels well and is followed by a doctor for her pregnancy. Her temperature is 97.7°F (36.5°C), blood pressure is 122/77 mmHg, pulse is 80/min, respirations are 19/min, and oxygen saturation is 98% on room air. Physical exam is notable for an absence of costovertebral angle tenderness and a gravid uterus. Which of the following is the best treatment for this patient?\n",
      "A. Ampicillin\n",
      "B. Ceftriaxone\n",
      "C. Doxycycline\n",
      "D. Nitrofurantoin\n",
      "Answer:\n",
      "D\n"
     ]
    },
    {
     "name": "stderr",
     "output_type": "stream",
     "text": [
      "\n"
     ]
    }
   ],
   "source": [
    "# Preprocess dataset for finetuning\n",
    "def format_letter_finetuning(example):\n",
    "    option_keys = sorted(example['options'].keys())\n",
    "    formatted_options = \"\\n\".join([f\"{key}. {example['options'][key]}\" for key in option_keys])\n",
    "    prompt = f\"Question: {example['question']}\\n{formatted_options}\\nAnswer:\"\n",
    "    completion = example['answer_idx']\n",
    "    return {\"prompt\": prompt, \"completion\": completion}\n",
    "\n",
    "usml_train_letter_data = usml_train.map(\n",
    "    format_letter_finetuning,\n",
    "    remove_columns=usml_train.column_names\n",
    ")\n",
    "\n",
    "print(usml_train_letter_data[0]['prompt'])\n",
    "print(usml_train_letter_data[0]['completion'])"
   ]
  }
 ],
 "metadata": {
  "environment": {
   "kernel": "conda-base-py",
   "name": "workbench-notebooks.m130",
   "type": "gcloud",
   "uri": "us-docker.pkg.dev/deeplearning-platform-release/gcr.io/workbench-notebooks:m130"
  },
  "kernelspec": {
   "display_name": ".venv",
   "language": "python",
   "name": "python3"
  },
  "language_info": {
   "codemirror_mode": {
    "name": "ipython",
    "version": 3
   },
   "file_extension": ".py",
   "mimetype": "text/x-python",
   "name": "python",
   "nbconvert_exporter": "python",
   "pygments_lexer": "ipython3",
   "version": "3.11.13"
  }
 },
 "nbformat": 4,
 "nbformat_minor": 5
}
